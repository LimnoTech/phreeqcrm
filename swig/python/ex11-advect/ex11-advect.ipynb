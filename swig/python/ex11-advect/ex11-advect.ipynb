{
 "cells": [
  {
   "cell_type": "markdown",
   "id": "51f2c19f",
   "metadata": {},
   "source": [
    "# PhreeqcRM BMI Python Example\n",
    "\n",
    "This notebook demonstrates how to use the Python wrappers included with the PHREEQC Reaction Module (PhreeqcRM) to couple the PHREEQC geochemical reaction model to a simple 1D advection model using the [Basic Model Interface (BMI)](https://bmi.readthedocs.io/en/stable/).\n",
    "\n",
    "PhreeqcRM is described in this publication:\n",
    "- Parkhurst, D.L. and Wissmeier, L., 2015. [PhreeqcRM: A reaction module for transport simulators based on the geochemical model PHREEQC](https://pubs.usgs.gov/publication/70189910). *Advances in Water Resources*, 83, pp.176-189.\n",
    "  - Full Text PDF: https://water.usgs.gov/water-resources/software/VS2DRTI/ParkhurstWissmeier2015.pdf\n",
    "\n",
    "\n",
    "This demonstration is designed around the PHREEQC Example 11: Transport and Cation Exchange provided in the [PHREEQC Version 3 Manual](https://pubs.usgs.gov/tm/06/a43/pdf/tm6-A43.pdf).\n",
    "\n",
    "by Scott Charlton, Shanna Rucker, Anthony Aufdenkampe"
   ]
  },
  {
   "cell_type": "markdown",
   "id": "921b3993",
   "metadata": {},
   "source": [
    "# Installation and Setup\n",
    "\n",
    "The phreeqcrm python can be installed into a conda virtual environment by running the following command:\n",
    "```shell\n",
    "conda install phreeqcrm\n",
    "```\n",
    "\n",
    "Alternately, a custom conda virtual environment can be created using the `environment.yml` file included in this folder."
   ]
  },
  {
   "cell_type": "markdown",
   "id": "3fcac21f",
   "metadata": {},
   "source": [
    "## Python Imports"
   ]
  },
  {
   "cell_type": "code",
   "execution_count": 1,
   "id": "ac49f183",
   "metadata": {},
   "outputs": [],
   "source": [
    "import phreeqcrm\n",
    "import numpy as np\n",
    "import matplotlib.pyplot as plt"
   ]
  },
  {
   "cell_type": "markdown",
   "id": "65f51af4",
   "metadata": {},
   "source": [
    "# Docs for PhreeqcRM modules and functions\n",
    "\n",
    "PhreeqcRM has three modules:\n",
    "- [**PhreeqcRM**](https://usgs-coupled.github.io/phreeqcrm/classPhreeqcRM.html): a geochemical reaction module for reactive-transport\n",
    "simulators. Based on IPhreeqc, it allows access to all\n",
    "PHREEQC reaction capabilities.\n",
    "- [**BMIPhreeqcRM**](https://usgs-coupled.github.io/phreeqcrm/classBMIPhreeqcRM.html): a subclass of PhreeqcRM that adds BMI standard functions.\n",
    "- [**YAMLPhreeqcRM**](https://usgs-coupled.github.io/phreeqcrm/classYAMLPhreeqcRM.html): A helper class to programmatically write a YAML configuration file for PhreeqcRM.\n",
    "\n",
    "These modules and their functions are documented in the C++ code and compiled by the Doxygen document generator at https://usgs-coupled.github.io/phreeqcrm."
   ]
  },
  {
   "cell_type": "code",
   "execution_count": 2,
   "id": "70e1671b",
   "metadata": {},
   "outputs": [
    {
     "data": {
      "text/plain": [
       "['BMIPhreeqcRM',\n",
       " 'BoolVector',\n",
       " 'DoubleVector',\n",
       " 'IRM_BADINSTANCE',\n",
       " 'IRM_BADVARTYPE',\n",
       " 'IRM_FAIL',\n",
       " 'IRM_INVALIDARG',\n",
       " 'IRM_INVALIDCOL',\n",
       " 'IRM_INVALIDROW',\n",
       " 'IRM_OK',\n",
       " 'IRM_OUTOFMEMORY',\n",
       " 'IntVector',\n",
       " 'PhreeqcRM',\n",
       " 'StringVector',\n",
       " 'YAMLPhreeqcRM',\n",
       " '__builtins__',\n",
       " '__cached__',\n",
       " '__doc__',\n",
       " '__file__',\n",
       " '__loader__',\n",
       " '__name__',\n",
       " '__package__',\n",
       " '__path__',\n",
       " '__spec__',\n",
       " '_phreeqcrm',\n",
       " 'phreeqcrm',\n",
       " 'yamlphreeqcrm']"
      ]
     },
     "execution_count": 2,
     "metadata": {},
     "output_type": "execute_result"
    }
   ],
   "source": [
    "# Explore phreeqcrm namespace\n",
    "dir(phreeqcrm)"
   ]
  },
  {
   "cell_type": "code",
   "execution_count": 3,
   "id": "cd9fa291",
   "metadata": {},
   "outputs": [
    {
     "name": "stdout",
     "output_type": "stream",
     "text": [
      "\u001b[0;31mSignature:\u001b[0m\n",
      "\u001b[0mphreeqcrm\u001b[0m\u001b[0;34m.\u001b[0m\u001b[0mYAMLPhreeqcRM\u001b[0m\u001b[0;34m.\u001b[0m\u001b[0mYAMLSpeciesConcentrations2Module\u001b[0m\u001b[0;34m(\u001b[0m\u001b[0;34m\u001b[0m\n",
      "\u001b[0;34m\u001b[0m    \u001b[0mself\u001b[0m\u001b[0;34m,\u001b[0m\u001b[0;34m\u001b[0m\n",
      "\u001b[0;34m\u001b[0m    \u001b[0mspecies_conc\u001b[0m\u001b[0;34m,\u001b[0m\u001b[0;34m\u001b[0m\n",
      "\u001b[0;34m\u001b[0m\u001b[0;34m)\u001b[0m\u001b[0;34m\u001b[0m\u001b[0;34m\u001b[0m\u001b[0m\n",
      "\u001b[0;31mDocstring:\u001b[0m\n",
      "Inserts data into the YAML document for the PhreeqcRM method SpeciesConcentrations2Module.\n",
      "\n",
      "When the YAML document is written to file it can be processed by the method InitializeYAML to\n",
      "initialize a PhreeqcRM instance. SpeciesConcentrations2Module sets solution concentrations in \n",
      "the reaction cells based on the vector of aqueous species concentrations (@a species_conc).\n",
      "This method is intended for use with multicomponent-diffusion transport calculations, and \n",
      "SetSpeciesSaveOn must be set to true.  The list of aqueous species is determined by \n",
      "FindComponents and includes all aqueous species that can be made from the set of components.\n",
      "The method determines the total concentration of a component by summing the molarities of the \n",
      "individual species times the stoichiometric coefficient of the element in each species.\n",
      "Solution compositions in the reaction cells are updated with these component concentrations.\n",
      "Usually, accurate concentrations will not be known to use YAMLSpeciesConcentrations2Module during\n",
      "initialization.\n",
      "\n",
      "@param species_conc Vector of aqueous species concentrations. Dimension of the array is nspecies \n",
      "times nxyz, where  nspecies is the number of aqueous species, and nxyz is the number of user \n",
      "grid cells. Concentrations are moles per liter.\n",
      "\u001b[0;31mFile:\u001b[0m      ~/miniconda3/envs/phreeqc/lib/python3.11/site-packages/phreeqcrm/yamlphreeqcrm.py\n",
      "\u001b[0;31mType:\u001b[0m      function"
     ]
    }
   ],
   "source": [
    "# Explore phreeqcrm documentation\n",
    "phreeqcrm.YAMLPhreeqcRM.YAMLSpeciesConcentrations2Module?"
   ]
  },
  {
   "cell_type": "code",
   "execution_count": 18,
   "id": "3faa233e",
   "metadata": {},
   "outputs": [
    {
     "name": "stdout",
     "output_type": "stream",
     "text": [
      "Help on function YAMLSpeciesConcentrations2Module in module phreeqcrm.yamlphreeqcrm:\n",
      "\n",
      "YAMLSpeciesConcentrations2Module(self, species_conc)\n",
      "    Inserts data into the YAML document for the PhreeqcRM method SpeciesConcentrations2Module.\n",
      "    \n",
      "    When the YAML document is written to file it can be processed by the method InitializeYAML to\n",
      "    initialize a PhreeqcRM instance. SpeciesConcentrations2Module sets solution concentrations in \n",
      "    the reaction cells based on the vector of aqueous species concentrations (@a species_conc).\n",
      "    This method is intended for use with multicomponent-diffusion transport calculations, and \n",
      "    SetSpeciesSaveOn must be set to true.  The list of aqueous species is determined by \n",
      "    FindComponents and includes all aqueous species that can be made from the set of components.\n",
      "    The method determines the total concentration of a component by summing the molarities of the \n",
      "    individual species times the stoichiometric coefficient of the element in each species.\n",
      "    Solution compositions in the reaction cells are updated with these component concentrations.\n",
      "    Usually, accurate concentrations will not be known to use YAMLSpeciesConcentrations2Module during\n",
      "    initialization.\n",
      "    \n",
      "    @param species_conc Vector of aqueous species concentrations. Dimension of the array is nspecies \n",
      "    times nxyz, where  nspecies is the number of aqueous species, and nxyz is the number of user \n",
      "    grid cells. Concentrations are moles per liter.\n",
      "\n"
     ]
    }
   ],
   "source": [
    "help(phreeqcrm.YAMLPhreeqcRM.YAMLSpeciesConcentrations2Module)"
   ]
  },
  {
   "cell_type": "markdown",
   "id": "543edbc3",
   "metadata": {},
   "source": [
    "# Create a configuration YAML file for PHREEQC Example 11\n",
    "\n",
    "We will use the `phreeqcrm.YAMLPhreeqcRM()` module to create a configuration file as input to `phreeqcrm.BMIPhreeqcRM.initialize()`. This is the easiest way to run the Reaction Module."
   ]
  },
  {
   "cell_type": "code",
   "execution_count": 4,
   "id": "e6c1fcc1",
   "metadata": {},
   "outputs": [],
   "source": [
    "# Create YAMLPhreeqcRM document\n",
    "yrm = phreeqcrm.YAMLPhreeqcRM()\n",
    "\n",
    "# Number of cells\n",
    "nxyz = 40                 \n",
    "    # nxyz is the number of grid cells in the user's model\n",
    "\n",
    "# Set GridCellCount\n",
    "yrm.YAMLSetGridCellCount(nxyz)  \n",
    "    # Number of cells for the PhreeqcRM instance\n",
    "\n",
    "# Set some properties\n",
    "yrm.YAMLSetErrorHandlerMode(1)   \n",
    "    # 0 (default), return to calling program with an error return code; \n",
    "    # 1, throw an exception; 2, attempt to exit gracefully\n",
    "yrm.YAMLSetComponentH2O(False)              \n",
    "    # True (default), excess H, excess O, and water are included in the \n",
    "    #   component list (require less accuracy in transport); \n",
    "    # False, total H and O are included in the component list (requires \n",
    "    #   transportresults to be accurate to eight or nine significant \n",
    "    #   digits)\n",
    "yrm.YAMLSetRebalanceFraction(0.5)           \n",
    "    # 0.5 (default); \n",
    "    # 0, eliminate load rebalancing; \n",
    "    # 1, maximum load rebalancing setting; \n",
    "    # Less than 1 recommended to avoid too many cells transferred at one \n",
    "    #   iteration\n",
    "yrm.YAMLSetRebalanceByCell(True)            \n",
    "    # True (default), individual cell times are used in rebalancing; \n",
    "    # False, average times are used in rebalancing\n",
    "yrm.YAMLUseSolutionDensityVolume(False)     \n",
    "    # True, use solution density and volume as calculated by PHREEQC; \n",
    "    # False, use solution density set by SetDensityUser and the volume \n",
    "    #   determined by the product of  SetSaturationUser, SetPorosity, \n",
    "    #   and SetRepresentativeVolume\n",
    "yrm.YAMLSetPartitionUZSolids(False)         \n",
    "    # True, the fraction of solids and gases available for reaction is \n",
    "    #   equal to the saturation; \n",
    "    # False (default), all solids and gases are reactive regardless of \n",
    "    #   saturation\n",
    "\n",
    "# Set concentration units\n",
    "yrm.YAMLSetUnitsSolution(2)           \n",
    "    # 1, mg/L; 2, mol/L; 3, kg/kgs\n",
    "yrm.YAMLSetUnitsPPassemblage(1)       \n",
    "    # 0, mol/L cell; 1, mol/L water; 2 mol/L rock\n",
    "yrm.YAMLSetUnitsExchange(1)           \n",
    "    # 0, mol/L cell; 1, mol/L water; 2 mol/L rock\n",
    "yrm.YAMLSetUnitsSurface(1)            \n",
    "    # 0, mol/L cell; 1, mol/L water; 2 mol/L rock\n",
    "yrm.YAMLSetUnitsGasPhase(1)           \n",
    "    # 0, mol/L cell; 1, mol/L water; 2 mol/L rock\n",
    "yrm.YAMLSetUnitsSSassemblage(1)       \n",
    "    # 0, mol/L cell; 1, mol/L water; 2 mol/L rock\n",
    "yrm.YAMLSetUnitsKinetics(1)           \n",
    "    # 0, mol/L cell; 1, mol/L water; 2 mol/L rock\n",
    "\n",
    "# Set conversion from seconds to user units (days);\n",
    "#   Only affects one print statement\n",
    "time_conversion = 1.0 / 86400.0\n",
    "yrm.YAMLSetTimeConversion(time_conversion)      \n",
    "    # Factor to convert seconds to user time units\n",
    "\n",
    "# Set representative volume\n",
    "rv = [1] * nxyz                                 \n",
    "yrm.YAMLSetRepresentativeVolume(rv)             \n",
    "    # Representative volumes, in liters, of each reaction cell as an \n",
    "    #   array of size nxyz. Default is 1.0 liter.\n",
    "\n",
    "# Set initial density\n",
    "density = [1.0] * nxyz\n",
    "yrm.YAMLSetDensityUser(density)                 \n",
    "    # Density for each reaction cell as an array of size nxyz\n",
    "\n",
    "# Set initial porosity\n",
    "por = [0.2] * nxyz\n",
    "yrm.YAMLSetPorosity(por)                        \n",
    "    # Porosity, unitless, for each reaction cell as an array of size \n",
    "    #   nxyz\n",
    "\n",
    "# Set initial saturation\n",
    "sat = [1] * nxyz\n",
    "yrm.YAMLSetSaturationUser(sat)                  \n",
    "    # Saturation fraction for each reaction cell ranging from 0 to 1 as \n",
    "    #   an array of size nxyz\n",
    "\n",
    "# Load database\n",
    "yrm.YAMLLoadDatabase(\"phreeqc.dat\")             \n",
    "    # String containing the database name for all IPhreeqc \n",
    "    #   instances--workers, InitialPhreeqc, and Utility\n",
    "\n",
    "# Run file to define solutions and reactants for initial conditions, \n",
    "#   selected output\n",
    "workers = True             \n",
    "    # Worker instances do the reaction calculations for transport\n",
    "initial_phreeqc = True     \n",
    "    # InitialPhreeqc instance accumulates initial and boundary \n",
    "    #   conditions\n",
    "utility = True             \n",
    "    # Utility instance is available for processing\n",
    "chemistry_name = \"advect.pqi\"\n",
    "yrm.YAMLRunFile(workers, initial_phreeqc, utility, chemistry_name)        \n",
    "    # YAMLRunFile runs a PHREEQC input file. The first three arguments \n",
    "    #   determine which IPhreeqc instances will run the file\n",
    "\n",
    "# Clear contents of workers and utility\n",
    "initial_phreeqc = False    \n",
    "    # False Indicates InitialPhreeqc will not run the string\n",
    "input = \"DELETE; -all\"     \n",
    "    # String containing PHREEQC input that clears contents for the \n",
    "    #   instances that run\n",
    "yrm.YAMLRunString(workers, initial_phreeqc, utility, input)       \n",
    "    # YAMLRunString runs a PHREEQC input string. The first three \n",
    "    #   arguments determine which IPhreeqc instances will run the string\n",
    "output_vars = \"AddOutputVars\"                       \n",
    "    # A string value that includes or excludes variables from \n",
    "    #   GetOutputVarNames, GetValue, and other BMI methods\n",
    "include_vars = \"true\"                               \n",
    "    # A string value that can be \"false\", \"true\", or a list of items to \n",
    "    #   be included as accessible variables\n",
    "yrm.YAMLAddOutputVars(output_vars, include_vars)    \n",
    "    # AddOutputVars allows selection of sets of output variables that \n",
    "    #   are available through the BMI method GetValue\n",
    "\n",
    "# Determine number of components to transport\n",
    "yrm.YAMLFindComponents()    \n",
    "    # YAMLFindComponents accumulates a list of elements that have been \n",
    "    #   defined in a solution or any other reactant (EQUILIBRIUM_PHASE, \n",
    "    #   KINETICS, and others). The list is the set of components that \n",
    "    #   needs to be transported\n",
    "\n",
    "# initial solutions\n",
    "initial_solutions = [1] * nxyz\n",
    "yrm.YAMLInitialSolutions2Module(initial_solutions)      \n",
    "    # SOLUTION definitions, as an array of size nxyz, from the \n",
    "    #   InitialPhreeqc instance to be transferred to the reaction-module\n",
    "    #   workers\n",
    "\n",
    "# initial exchanges\n",
    "initial_exchanges = [1] * nxyz\n",
    "yrm.YAMLInitialExchanges2Module(initial_exchanges)      \n",
    "    # EXCHANGE definitions, as an array of size nxyz, from the \n",
    "    #   InitialPhreeqc instance to be transferred to the reaction-module\n",
    "    #   workers\n",
    "\n",
    "# Write YAML file\n",
    "yrm.WriteYAMLDoc(\"ex11-advect.yaml\")        \n",
    "    # String containing file name where YAML document will be written\n"
   ]
  },
  {
   "cell_type": "markdown",
   "id": "f67c862b",
   "metadata": {},
   "source": [
    "# Create the Simple 1D Advection Model\n",
    "Define a function to implement a simple 1-dimensional advection model."
   ]
  },
  {
   "cell_type": "code",
   "execution_count": 5,
   "id": "c2c831e8",
   "metadata": {},
   "outputs": [],
   "source": [
    "def advect(c: np.ndarray, bc_conc: np.ndarray, ncomps: int, nxyz: int):\n",
    "    # Advect\n",
    "    for i in range(nxyz - 1, 0, -1):\n",
    "        for j in range(ncomps):\n",
    "            c[j * nxyz + i] = c[j * nxyz + i - 1]       # component j\n",
    "    \n",
    "    # Cell zero gets boundary condition\n",
    "    for j in range(ncomps):\n",
    "        c[j * nxyz] = bc_conc[j]                        # component j"
   ]
  },
  {
   "cell_type": "markdown",
   "id": "3041c99a",
   "metadata": {},
   "source": [
    "# Couple PHREEQC Geochemical Model with Simple Advection Model"
   ]
  },
  {
   "cell_type": "markdown",
   "id": "ad0c22a3",
   "metadata": {},
   "source": [
    "## Initialize PhreeqcRM with YAML\n",
    "Using config YAML file created above for PHREEQC Example 11."
   ]
  },
  {
   "cell_type": "code",
   "execution_count": 6,
   "id": "e2df224a",
   "metadata": {},
   "outputs": [],
   "source": [
    "rm = phreeqcrm.BMIPhreeqcRM()\n",
    "rm.initialize(\"ex11-advect.yaml\")"
   ]
  },
  {
   "cell_type": "code",
   "execution_count": 7,
   "id": "8fe1b3f7",
   "metadata": {},
   "outputs": [
    {
     "name": "stdout",
     "output_type": "stream",
     "text": [
      "\n",
      " 8 ('H', 'O', 'Charge', 'Ca', 'Cl', 'K', 'N', 'Na') \n",
      " 4 ('CaX2', 'KX', 'NaX', 'X-') \n",
      " ('Concentrations', 'DensityUser', 'FilePrefix', 'NthSelectedOutput', 'SaturationUser', 'Time', 'TimeStep', 'Porosity', 'Pressure', 'SelectedOutputOn', 'Temperature') \n",
      " ('ComponentCount', 'Concentrations', 'DensityCalculated', 'Gfw', 'GridCellCount', 'SaturationCalculated', 'SolutionVolume', 'Time', 'TimeStep', 'Porosity', 'Pressure', 'SelectedOutputOn', 'Temperature', 'Viscosity') \n",
      " ('ComponentCount', 'Components', 'Concentrations', 'DensityCalculated', 'ErrorString', 'FilePrefix', 'Gfw', 'GridCellCount', 'SaturationCalculated', 'SelectedOutput', 'SelectedOutputColumnCount', 'SelectedOutputCount', 'SelectedOutputRowCount', 'SolutionVolume', 'Time', 'TimeStep', 'CurrentSelectedOutputUserNumber', 'Porosity', 'Pressure', 'SelectedOutputOn', 'Temperature', 'Viscosity', 'exchange_total_molality_X', 'exchange_X_species_log_molality_CaX2', 'exchange_X_species_log_molality_KX', 'exchange_X_species_log_molality_NaX', 'exchange_X_species_log_molality_X-', 'solution_alkalinity', 'solution_charge_balance', 'solution_ionic_strength', 'solution_pe', 'solution_percent_error', 'solution_ph', 'solution_specific_conductance', 'solution_total_molality_Ca', 'solution_total_molality_Cl', 'solution_total_molality_H', 'solution_total_molality_H(0)', 'solution_total_molality_H(1)', 'solution_total_molality_K', 'solution_total_molality_N', 'solution_total_molality_N(-3)', 'solution_total_molality_N(0)', 'solution_total_molality_N(3)', 'solution_total_molality_N(5)', 'solution_total_molality_Na', 'solution_total_molality_O', 'solution_total_molality_O(-2)', 'solution_total_molality_O(0)', 'solution_water_mass')\n"
     ]
    }
   ],
   "source": [
    "# Explore PhreeqcRM model configuration\n",
    "print(\n",
    "    '\\n',\n",
    "    rm.get_value_ptr(\"ComponentCount\")[0],\n",
    "    rm.GetComponents(), \n",
    "    '\\n',\n",
    "    rm.GetExchangeSpeciesCount(),\n",
    "    rm.GetExchangeSpecies(),\n",
    "    '\\n',\n",
    "    rm.get_input_var_names(),\n",
    "    '\\n',\n",
    "    rm.get_pointable_var_names(),\n",
    "    '\\n',\n",
    "    rm.get_output_var_names(),\n",
    ")"
   ]
  },
  {
   "cell_type": "code",
   "execution_count": 8,
   "id": "42c0dea9",
   "metadata": {},
   "outputs": [
    {
     "data": {
      "text/plain": [
       "8"
      ]
     },
     "execution_count": 8,
     "metadata": {},
     "output_type": "execute_result"
    }
   ],
   "source": [
    "# Save number of components for use later\n",
    "ncomps = rm.get_value_ptr(\"ComponentCount\")[0]  \n",
    "    # eight components: ['H', 'O', 'Charge', 'Ca', 'Cl', 'K', 'N', 'Na']\n",
    "ncomps"
   ]
  },
  {
   "cell_type": "code",
   "execution_count": 9,
   "id": "557fc66a",
   "metadata": {},
   "outputs": [
    {
     "data": {
      "text/plain": [
       "('ComponentCount',\n",
       " 'Components',\n",
       " 'Concentrations',\n",
       " 'DensityCalculated',\n",
       " 'ErrorString',\n",
       " 'FilePrefix',\n",
       " 'Gfw',\n",
       " 'GridCellCount',\n",
       " 'SaturationCalculated',\n",
       " 'SelectedOutput',\n",
       " 'SelectedOutputColumnCount',\n",
       " 'SelectedOutputCount',\n",
       " 'SelectedOutputRowCount',\n",
       " 'SolutionVolume',\n",
       " 'Time',\n",
       " 'TimeStep',\n",
       " 'CurrentSelectedOutputUserNumber',\n",
       " 'Porosity',\n",
       " 'Pressure',\n",
       " 'SelectedOutputOn',\n",
       " 'Temperature',\n",
       " 'Viscosity',\n",
       " 'exchange_total_molality_X',\n",
       " 'exchange_X_species_log_molality_CaX2',\n",
       " 'exchange_X_species_log_molality_KX',\n",
       " 'exchange_X_species_log_molality_NaX',\n",
       " 'exchange_X_species_log_molality_X-',\n",
       " 'solution_alkalinity',\n",
       " 'solution_charge_balance',\n",
       " 'solution_ionic_strength',\n",
       " 'solution_pe',\n",
       " 'solution_percent_error',\n",
       " 'solution_ph',\n",
       " 'solution_specific_conductance',\n",
       " 'solution_total_molality_Ca',\n",
       " 'solution_total_molality_Cl',\n",
       " 'solution_total_molality_H',\n",
       " 'solution_total_molality_H(0)',\n",
       " 'solution_total_molality_H(1)',\n",
       " 'solution_total_molality_K',\n",
       " 'solution_total_molality_N',\n",
       " 'solution_total_molality_N(-3)',\n",
       " 'solution_total_molality_N(0)',\n",
       " 'solution_total_molality_N(3)',\n",
       " 'solution_total_molality_N(5)',\n",
       " 'solution_total_molality_Na',\n",
       " 'solution_total_molality_O',\n",
       " 'solution_total_molality_O(-2)',\n",
       " 'solution_total_molality_O(0)',\n",
       " 'solution_water_mass')"
      ]
     },
     "execution_count": 9,
     "metadata": {},
     "output_type": "execute_result"
    }
   ],
   "source": [
    "# Save list of outputs for use later\n",
    "output_var_names = rm.get_output_var_names()\n",
    "output_var_names"
   ]
  },
  {
   "cell_type": "code",
   "execution_count": 10,
   "id": "b776f555",
   "metadata": {},
   "outputs": [
    {
     "data": {
      "text/plain": [
       "40"
      ]
     },
     "execution_count": 10,
     "metadata": {},
     "output_type": "execute_result"
    }
   ],
   "source": [
    "# Confirm grid size\n",
    "assert nxyz == rm.get_value_ptr(\"GridCellCount\")[0] \n",
    "    # AssertionError raised if nxyz does not equal GridCellCount\n",
    "nxyz"
   ]
  },
  {
   "cell_type": "markdown",
   "id": "e6b2d206",
   "metadata": {},
   "source": [
    "## Set Initial and Boundary Conditions"
   ]
  },
  {
   "cell_type": "code",
   "execution_count": 11,
   "id": "21cf0aed",
   "metadata": {},
   "outputs": [
    {
     "data": {
      "text/plain": [
       "(320,)"
      ]
     },
     "execution_count": 11,
     "metadata": {},
     "output_type": "execute_result"
    }
   ],
   "source": [
    "# Get initial concentrations from phreeqcrm\n",
    "c = rm.get_value_ptr(\"Concentrations\") \n",
    "    # One-dimensional array with 320 indices (40 nxyz x 8 ncomps) \n",
    "    # Includes 40 concentration values for each of the eight components\n",
    "c.shape"
   ]
  },
  {
   "cell_type": "code",
   "execution_count": 12,
   "id": "7592541d",
   "metadata": {},
   "outputs": [
    {
     "data": {
      "text/plain": [
       "(8,)"
      ]
     },
     "execution_count": 12,
     "metadata": {},
     "output_type": "execute_result"
    }
   ],
   "source": [
    "\n",
    "# ----------------------------------------------------------------------\n",
    "# Set boundary condition\n",
    "# ----------------------------------------------------------------------\n",
    "bc1 = [0]           # solution 0 from Initial IPhreeqc instance\n",
    "\n",
    "bc_conc = rm.InitialPhreeqc2Concentrations(bc1) \n",
    "    # One-dimensional array with 8 indices\n",
    "bc_conc.shape"
   ]
  },
  {
   "cell_type": "markdown",
   "id": "3e8bc629",
   "metadata": {},
   "source": [
    "## Run Transient Loop through all timesteps"
   ]
  },
  {
   "cell_type": "code",
   "execution_count": 13,
   "id": "f340f679",
   "metadata": {},
   "outputs": [],
   "source": [
    "# set number of time steps\n",
    "nsteps = 100"
   ]
  },
  {
   "cell_type": "code",
   "execution_count": 14,
   "id": "9ce620ee",
   "metadata": {},
   "outputs": [],
   "source": [
    "# Pre-Allocate Python Arrays for Outputs\n",
    "\n",
    "# Create empty NumPy arrays for molality totals (random values set as \n",
    "#   initial values for each of the 40 indices)\n",
    "solution_total_molality_Cl = np.empty((nxyz,), dtype=float)\n",
    "solution_total_molality_Na = np.empty((nxyz,), dtype=float)\n",
    "solution_total_molality_K  = np.empty((nxyz,), dtype=float)\n",
    "solution_total_molality_Ca = np.empty((nxyz,), dtype=float)\n",
    "\n",
    "exchange_X_species_log_molality_Xminus  = np.empty((nxyz,), dtype=float)\n",
    "exchange_X_species_log_molality_NaX  = np.empty((nxyz,), dtype=float)\n",
    "exchange_X_species_log_molality_KX  = np.empty((nxyz,), dtype=float)\n",
    "exchange_X_species_log_molality_CaX2  = np.empty((nxyz,), dtype=float)\n",
    "\n",
    "\n",
    "# Create empty NumPy arrays for components - will store molality results\n",
    "#   for each time step\n",
    "Na = np.empty((nsteps,nxyz), dtype=float)\n",
    "Cl = np.empty((nsteps,nxyz), dtype=float)\n",
    "K = np.empty((nsteps,nxyz), dtype=float)\n",
    "Ca = np.empty((nsteps,nxyz), dtype=float)\n",
    "\n",
    "NaX = np.empty((nsteps,nxyz), dtype=float)\n",
    "Xminus = np.empty((nsteps,nxyz), dtype=float)\n",
    "KX = np.empty((nsteps,nxyz), dtype=float)\n",
    "CaX2 = np.empty((nsteps,nxyz), dtype=float)\n",
    "\n",
    "# Create empty NumPy array for pore volumes\n",
    "por_volumes = np.empty((nsteps), dtype=float)"
   ]
  },
  {
   "cell_type": "code",
   "execution_count": 15,
   "id": "f13a10ce",
   "metadata": {},
   "outputs": [
    {
     "name": "stdout",
     "output_type": "stream",
     "text": [
      "step Na Cl K Ca NaX X- KX CaX2 Pore_vol\n",
      "1 1.0000e-03 0.0000e+00 2.0000e-04 0.0000e+00 -3.9591e+00 2.6985e+00 -3.9581e+00 -9.9990e+01 3.7500e-02\n",
      "2 1.0000e-03 0.0000e+00 2.0000e-04 0.0000e+00 -3.9591e+00 2.6985e+00 -3.9581e+00 -9.9990e+01 6.2500e-02\n",
      "3 1.0000e-03 0.0000e+00 2.0000e-04 0.0000e+00 -3.9591e+00 2.6985e+00 -3.9581e+00 -9.9990e+01 8.7500e-02\n",
      "4 1.0000e-03 0.0000e+00 2.0000e-04 0.0000e+00 -3.9591e+00 2.6985e+00 -3.9581e+00 -9.9990e+01 1.1250e-01\n",
      "5 1.0000e-03 0.0000e+00 2.0000e-04 0.0000e+00 -3.9591e+00 2.6985e+00 -3.9581e+00 -9.9990e+01 1.3750e-01\n",
      "6 1.0000e-03 0.0000e+00 2.0000e-04 0.0000e+00 -3.9591e+00 2.6985e+00 -3.9581e+00 -9.9990e+01 1.6250e-01\n",
      "7 1.0000e-03 0.0000e+00 2.0000e-04 0.0000e+00 -3.9591e+00 2.6985e+00 -3.9581e+00 -9.9990e+01 1.8750e-01\n",
      "8 1.0000e-03 0.0000e+00 2.0000e-04 0.0000e+00 -3.9591e+00 2.6985e+00 -3.9581e+00 -9.9990e+01 2.1250e-01\n",
      "9 1.0000e-03 0.0000e+00 2.0000e-04 0.0000e+00 -3.9591e+00 2.6985e+00 -3.9581e+00 -9.9990e+01 2.3750e-01\n",
      "10 1.0000e-03 0.0000e+00 2.0000e-04 0.0000e+00 -3.9591e+00 2.6985e+00 -3.9581e+00 -9.9990e+01 2.6250e-01\n",
      "11 1.0000e-03 0.0000e+00 2.0000e-04 0.0000e+00 -3.9591e+00 2.6985e+00 -3.9581e+00 -9.9990e+01 2.8750e-01\n",
      "12 1.0000e-03 0.0000e+00 2.0000e-04 0.0000e+00 -3.9591e+00 2.6985e+00 -3.9581e+00 -9.9990e+01 3.1250e-01\n",
      "13 1.0000e-03 0.0000e+00 2.0000e-04 0.0000e+00 -3.9591e+00 2.6985e+00 -3.9581e+00 -9.9990e+01 3.3750e-01\n",
      "14 1.0000e-03 0.0000e+00 2.0000e-04 0.0000e+00 -3.9591e+00 2.6985e+00 -3.9581e+00 -9.9990e+01 3.6250e-01\n",
      "15 1.0000e-03 0.0000e+00 2.0000e-04 0.0000e+00 -3.9591e+00 2.6985e+00 -3.9581e+00 -9.9990e+01 3.8750e-01\n",
      "16 1.0000e-03 0.0000e+00 2.0000e-04 0.0000e+00 -3.9591e+00 2.6985e+00 -3.9581e+00 -9.9990e+01 4.1250e-01\n",
      "17 1.0000e-03 0.0000e+00 2.0000e-04 0.0000e+00 -3.9591e+00 2.6985e+00 -3.9581e+00 -9.9990e+01 4.3750e-01\n",
      "18 1.0000e-03 0.0000e+00 2.0000e-04 0.0000e+00 -3.9591e+00 2.6985e+00 -3.9581e+00 -9.9990e+01 4.6250e-01\n",
      "19 1.0000e-03 0.0000e+00 2.0000e-04 0.0000e+00 -3.9591e+00 2.6985e+00 -3.9581e+00 -9.9990e+01 4.8750e-01\n",
      "20 1.0000e-03 0.0000e+00 2.0000e-04 0.0000e+00 -3.9591e+00 2.6985e+00 -3.9581e+00 -9.9990e+01 5.1250e-01\n",
      "21 1.0000e-03 0.0000e+00 2.0000e-04 0.0000e+00 -3.9591e+00 2.6985e+00 -3.9581e+00 -9.9990e+01 5.3750e-01\n",
      "22 1.0000e-03 0.0000e+00 2.0000e-04 0.0000e+00 -3.9591e+00 2.6985e+00 -3.9581e+00 -9.9990e+01 5.6250e-01\n",
      "23 1.0000e-03 0.0000e+00 2.0000e-04 0.0000e+00 -3.9591e+00 2.6985e+00 -3.9581e+00 -9.9990e+01 5.8750e-01\n",
      "24 1.0000e-03 0.0000e+00 2.0000e-04 0.0000e+00 -3.9591e+00 2.6985e+00 -3.9581e+00 -9.9990e+01 6.1250e-01\n",
      "25 1.0000e-03 0.0000e+00 2.0000e-04 0.0000e+00 -3.9591e+00 2.6985e+00 -3.9581e+00 -9.9990e+01 6.3750e-01\n",
      "26 1.0000e-03 0.0000e+00 2.0000e-04 0.0000e+00 -3.9591e+00 2.6985e+00 -3.9581e+00 -9.9990e+01 6.6250e-01\n",
      "27 1.0000e-03 0.0000e+00 2.0000e-04 0.0000e+00 -3.9591e+00 2.6985e+00 -3.9581e+00 -9.9990e+01 6.8750e-01\n",
      "28 1.0000e-03 0.0000e+00 2.0000e-04 0.0000e+00 -3.9591e+00 2.6985e+00 -3.9581e+00 -9.9990e+01 7.1250e-01\n",
      "29 1.0000e-03 0.0000e+00 2.0000e-04 0.0000e+00 -3.9591e+00 2.6985e+00 -3.9581e+00 -9.9990e+01 7.3750e-01\n",
      "30 1.0000e-03 0.0000e+00 2.0000e-04 0.0000e+00 -3.9591e+00 2.6985e+00 -3.9581e+00 -9.9990e+01 7.6250e-01\n",
      "31 1.0000e-03 0.0000e+00 2.0000e-04 0.0000e+00 -3.9591e+00 2.6985e+00 -3.9581e+00 -9.9990e+01 7.8750e-01\n",
      "32 1.0000e-03 0.0000e+00 2.0000e-04 0.0000e+00 -3.9591e+00 2.6985e+00 -3.9581e+00 -9.9990e+01 8.1250e-01\n",
      "33 1.0000e-03 0.0000e+00 2.0000e-04 0.0000e+00 -3.9591e+00 2.6985e+00 -3.9581e+00 -9.9990e+01 8.3750e-01\n",
      "34 1.0000e-03 0.0000e+00 2.0000e-04 0.0000e+00 -3.9591e+00 2.6985e+00 -3.9581e+00 -9.9990e+01 8.6250e-01\n",
      "35 1.0000e-03 0.0000e+00 2.0000e-04 0.0000e+00 -3.9591e+00 2.6985e+00 -3.9581e+00 -9.9990e+01 8.8750e-01\n",
      "36 1.0000e-03 0.0000e+00 2.0000e-04 0.0000e+00 -3.9591e+00 2.6985e+00 -3.9581e+00 -9.9990e+01 9.1250e-01\n",
      "37 1.0000e-03 0.0000e+00 2.0000e-04 0.0000e+00 -3.9591e+00 2.6985e+00 -3.9581e+00 -9.9990e+01 9.3750e-01\n",
      "38 1.0000e-03 0.0000e+00 2.0000e-04 0.0000e+00 -3.9591e+00 2.6985e+00 -3.9581e+00 -9.9990e+01 9.6250e-01\n",
      "39 1.0000e-03 0.0000e+00 2.0000e-04 0.0000e+00 -3.9591e+00 2.6985e+00 -3.9581e+00 -9.9990e+01 9.8750e-01\n",
      "40 1.0000e-03 0.0000e+00 2.0000e-04 0.0000e+00 -3.9591e+00 2.6985e+00 -3.9581e+00 -9.9990e+01 1.0125e+00\n",
      "41 1.0000e-03 1.2000e-03 2.0000e-04 0.0000e+00 -3.9591e+00 2.6985e+00 -3.9581e+00 -9.9990e+01 1.0375e+00\n",
      "42 1.0000e-03 1.2000e-03 2.0000e-04 0.0000e+00 -3.9591e+00 2.6985e+00 -3.9581e+00 -9.9990e+01 1.0625e+00\n",
      "43 1.0000e-03 1.2000e-03 2.0000e-04 0.0000e+00 -3.9591e+00 2.6985e+00 -3.9581e+00 -9.9990e+01 1.0875e+00\n",
      "44 1.0000e-03 1.2000e-03 2.0000e-04 0.0000e+00 -3.9591e+00 2.6985e+00 -3.9581e+00 -9.9990e+01 1.1125e+00\n",
      "45 1.0000e-03 1.2000e-03 2.0000e-04 0.0000e+00 -3.9591e+00 2.6985e+00 -3.9581e+00 -9.9990e+01 1.1375e+00\n",
      "46 1.0000e-03 1.2000e-03 2.0000e-04 0.0000e+00 -3.9591e+00 2.6985e+00 -3.9581e+00 -9.9990e+01 1.1625e+00\n",
      "47 1.0000e-03 1.2000e-03 2.0000e-04 0.0000e+00 -3.9591e+00 2.6985e+00 -3.9581e+00 -9.9990e+01 1.1875e+00\n",
      "48 1.0000e-03 1.2000e-03 2.0000e-04 0.0000e+00 -3.9591e+00 2.6985e+00 -3.9581e+00 -9.9990e+01 1.2125e+00\n",
      "49 1.0000e-03 1.2000e-03 2.0000e-04 0.0000e+00 -3.9591e+00 2.6985e+00 -3.9581e+00 -9.9990e+01 1.2375e+00\n",
      "50 1.0000e-03 1.2000e-03 2.0000e-04 0.0000e+00 -3.9591e+00 2.6985e+00 -3.9581e+00 -9.9990e+01 1.2625e+00\n",
      "51 1.0000e-03 1.2000e-03 2.0000e-04 0.0000e+00 -3.9591e+00 2.6985e+00 -3.9581e+00 -9.9990e+01 1.2875e+00\n",
      "52 1.0000e-03 1.2000e-03 2.0000e-04 0.0000e+00 -3.9591e+00 2.6985e+00 -3.9581e+00 -9.9990e+01 1.3125e+00\n",
      "53 1.0000e-03 1.2000e-03 2.0000e-04 0.0000e+00 -3.9591e+00 2.6985e+00 -3.9581e+00 -9.9990e+01 1.3375e+00\n",
      "54 1.0000e-03 1.2000e-03 2.0000e-04 0.0000e+00 -3.9591e+00 2.6985e+00 -3.9581e+00 -9.9990e+01 1.3625e+00\n",
      "55 9.9999e-04 1.2000e-03 2.0001e-04 0.0000e+00 -3.9591e+00 2.6984e+00 -3.9581e+00 -9.9990e+01 1.3875e+00\n",
      "56 9.9994e-04 1.2000e-03 2.0006e-04 0.0000e+00 -3.9592e+00 2.6984e+00 -3.9580e+00 -9.9990e+01 1.4125e+00\n",
      "57 9.9972e-04 1.2000e-03 2.0028e-04 0.0000e+00 -3.9595e+00 2.6982e+00 -3.9577e+00 -9.9990e+01 1.4375e+00\n",
      "58 9.9872e-04 1.2000e-03 2.0128e-04 0.0000e+00 -3.9608e+00 2.6973e+00 -3.9564e+00 -9.9990e+01 1.4625e+00\n",
      "59 9.9431e-04 1.2000e-03 2.0569e-04 0.0000e+00 -3.9665e+00 2.6935e+00 -3.9508e+00 -9.9990e+01 1.4875e+00\n",
      "60 9.7504e-04 1.2000e-03 2.2496e-04 0.0000e+00 -3.9913e+00 2.6773e+00 -3.9282e+00 -9.9990e+01 1.5125e+00\n",
      "61 8.9841e-04 1.2000e-03 3.0159e-04 0.0000e+00 -4.0861e+00 2.6180e+00 -3.8602e+00 -9.9990e+01 1.5375e+00\n",
      "62 6.7463e-04 1.2000e-03 5.2537e-04 0.0000e+00 -4.3480e+00 2.4805e+00 -3.7566e+00 -9.9990e+01 1.5625e+00\n",
      "63 3.3885e-04 1.2000e-03 8.6115e-04 0.0000e+00 -4.7955e+00 2.3321e+00 -3.6904e+00 -9.9990e+01 1.5875e+00\n",
      "64 1.1563e-04 1.2000e-03 1.0844e-03 0.0000e+00 -5.3388e+00 2.2557e+00 -3.6667e+00 -9.9990e+01 1.6125e+00\n",
      "65 3.2608e-05 1.2000e-03 1.1674e-03 0.0000e+00 -5.9139e+00 2.2304e+00 -3.6600e+00 -9.9990e+01 1.6375e+00\n",
      "66 8.6376e-06 1.2000e-03 1.1914e-03 0.0000e+00 -6.4979e+00 2.2233e+00 -3.6582e+00 -9.9990e+01 1.6625e+00\n",
      "67 2.2477e-06 1.2000e-03 1.1978e-03 1.1823e-25 -7.0844e+00 2.2215e+00 -3.6577e+00 -2.3643e+01 1.6875e+00\n",
      "68 5.8173e-07 1.2000e-03 1.1994e-03 1.7037e-23 -7.6719e+00 2.2210e+00 -3.6576e+00 -2.1485e+01 1.7125e+00\n",
      "69 1.5015e-07 1.2000e-03 1.1998e-03 2.4611e-21 -8.2602e+00 2.2209e+00 -3.6576e+00 -1.9326e+01 1.7375e+00\n",
      "70 3.8640e-08 1.2000e-03 1.2000e-03 3.5999e-19 -8.8497e+00 2.2208e+00 -3.6576e+00 -1.7161e+01 1.7625e+00\n",
      "71 9.8986e-09 1.2000e-03 1.2000e-03 5.3156e-17 -9.4412e+00 2.2208e+00 -3.6576e+00 -1.4991e+01 1.7875e+00\n",
      "72 2.5166e-09 1.2000e-03 1.2000e-03 7.8616e-15 -1.0036e+01 2.2208e+00 -3.6576e+00 -1.2821e+01 1.8125e+00\n",
      "73 6.3145e-10 1.2000e-03 1.2000e-03 1.1542e-12 -1.0636e+01 2.2208e+00 -3.6576e+00 -1.0655e+01 1.8375e+00\n",
      "74 1.5480e-10 1.2000e-03 1.2000e-03 1.6726e-10 -1.1247e+01 2.2208e+00 -3.6576e+00 -8.4936e+00 1.8625e+00\n",
      "75 3.6331e-11 1.2000e-03 1.2000e-03 2.3910e-08 -1.1878e+01 2.2190e+00 -3.6594e+00 -6.3420e+00 1.8875e+00\n",
      "76 7.7654e-12 1.2000e-03 1.1933e-03 3.3429e-06 -1.2695e+01 2.0721e+00 -3.8087e+00 -4.4903e+00 1.9125e+00\n",
      "77 1.0509e-12 1.2000e-03 8.0389e-04 1.9805e-04 -1.4209e+01 1.4269e+00 -4.6255e+00 -4.0081e+00 1.9375e+00\n",
      "78 3.1754e-14 1.2000e-03 1.2131e-04 5.3934e-04 -1.5924e+01 1.2318e+00 -5.6419e+00 -3.9631e+00 1.9625e+00\n",
      "79 6.1171e-16 1.2000e-03 1.1674e-05 5.9416e-04 -1.7658e+01 1.2128e+00 -6.6775e+00 -3.9590e+00 1.9875e+00\n",
      "80 1.1279e-17 1.2000e-03 1.0754e-06 5.9946e-04 -1.9394e+01 1.2111e+00 -7.7149e+00 -3.9586e+00 2.0125e+00\n",
      "81 2.0715e-19 1.2000e-03 9.8683e-08 5.9995e-04 -2.1130e+01 1.2109e+00 -8.7524e+00 -3.9586e+00 2.0375e+00\n",
      "82 3.8028e-21 1.2000e-03 9.0526e-09 6.0000e-04 -2.2867e+01 1.2109e+00 -9.7899e+00 -3.9586e+00 2.0625e+00\n",
      "83 6.9693e-23 1.2000e-03 8.3048e-10 6.0000e-04 -2.4603e+01 1.2109e+00 -1.0827e+01 -3.9586e+00 2.0875e+00\n",
      "84 1.2277e-24 1.2000e-03 7.6194e-11 6.0000e-04 -2.6358e+01 1.2109e+00 -1.1865e+01 -3.9586e+00 2.1125e+00\n",
      "85 0.0000e+00 1.2000e-03 6.9911e-12 6.0000e-04 -9.9990e+01 1.2109e+00 -1.2902e+01 -3.9586e+00 2.1375e+00\n",
      "86 0.0000e+00 1.2000e-03 6.4153e-13 6.0000e-04 -9.9990e+01 1.2109e+00 -1.3939e+01 -3.9586e+00 2.1625e+00\n",
      "87 0.0000e+00 1.2000e-03 5.8874e-14 6.0000e-04 -9.9990e+01 1.2109e+00 -1.4977e+01 -3.9586e+00 2.1875e+00\n",
      "88 0.0000e+00 1.2000e-03 5.4035e-15 6.0000e-04 -9.9990e+01 1.2109e+00 -1.6014e+01 -3.9586e+00 2.2125e+00\n",
      "89 0.0000e+00 1.2000e-03 4.9598e-16 6.0000e-04 -9.9990e+01 1.2109e+00 -1.7051e+01 -3.9586e+00 2.2375e+00\n",
      "90 0.0000e+00 1.2000e-03 4.5530e-17 6.0000e-04 -9.9990e+01 1.2109e+00 -1.8088e+01 -3.9586e+00 2.2625e+00\n",
      "91 0.0000e+00 1.2000e-03 4.1809e-18 6.0000e-04 -9.9990e+01 1.2109e+00 -1.9125e+01 -3.9586e+00 2.2875e+00\n",
      "92 0.0000e+00 1.2000e-03 3.8398e-19 6.0000e-04 -9.9990e+01 1.2109e+00 -2.0162e+01 -3.9586e+00 2.3125e+00\n",
      "93 0.0000e+00 1.2000e-03 3.5281e-20 6.0000e-04 -9.9990e+01 1.2109e+00 -2.1199e+01 -3.9586e+00 2.3375e+00\n",
      "94 0.0000e+00 1.2000e-03 3.2549e-21 6.0000e-04 -9.9990e+01 1.2109e+00 -2.2234e+01 -3.9586e+00 2.3625e+00\n",
      "95 0.0000e+00 1.2000e-03 3.0765e-22 6.0000e-04 -9.9990e+01 1.2109e+00 -2.3259e+01 -3.9586e+00 2.3875e+00\n",
      "96 0.0000e+00 1.2000e-03 2.8451e-23 6.0000e-04 -9.9990e+01 1.2109e+00 -2.4293e+01 -3.9586e+00 2.4125e+00\n",
      "97 0.0000e+00 1.2000e-03 2.3460e-24 6.0000e-04 -9.9990e+01 1.2109e+00 -2.5376e+01 -3.9586e+00 2.4375e+00\n",
      "98 0.0000e+00 1.2000e-03 0.0000e+00 6.0000e-04 -9.9990e+01 1.2109e+00 -9.9990e+01 -3.9586e+00 2.4625e+00\n",
      "99 0.0000e+00 1.2000e-03 0.0000e+00 6.0000e-04 -9.9990e+01 1.2109e+00 -9.9990e+01 -3.9586e+00 2.4875e+00\n",
      "100 0.0000e+00 1.2000e-03 0.0000e+00 6.0000e-04 -9.9990e+01 1.2109e+00 -9.9990e+01 -3.9586e+00 2.5125e+00\n"
     ]
    }
   ],
   "source": [
    "# Print column headers for outputs\n",
    "print(f\"step Na Cl K Ca NaX X- KX CaX2 Pore_vol\")\n",
    "\n",
    "# Loop through each time step\n",
    "for s in range(nsteps):\n",
    "    # Advance phreeqcrm model by a single time step\n",
    "    rm.update()\n",
    "\n",
    "    # Run advection model\n",
    "    advect(c, bc_conc, ncomps, nxyz)\n",
    "\n",
    "    # Update phreeqcrm concentrations based on advection model run\n",
    "    rm.set_value(\"Concentrations\", c)\n",
    "\n",
    "    # Retrieve aqueous phase species molality results from phreeqcrm\n",
    "    solution_total_molality_Cl = rm.get_value(\"solution_total_molality_Cl\", \n",
    "                                              solution_total_molality_Cl)\n",
    "    solution_total_molality_Na = rm.get_value(\"solution_total_molality_Na\", \n",
    "                                              solution_total_molality_Na)\n",
    "    solution_total_molality_K  = rm.get_value(\"solution_total_molality_K\",  \n",
    "                                              solution_total_molality_K)\n",
    "    solution_total_molality_Ca = rm.get_value(\"solution_total_molality_Ca\", \n",
    "                                              solution_total_molality_Ca)\n",
    "    \n",
    "    # Retrieve solid phase exchange species results from phreeqcrm\n",
    "    exchange_X_species_log_molality_Xminus = \\\n",
    "        rm.get_value(\"exchange_X_species_log_molality_X-\", \n",
    "                     exchange_X_species_log_molality_Xminus)\n",
    "    exchange_X_species_log_molality_NaX = \\\n",
    "        rm.get_value(\"exchange_X_species_log_molality_NaX\", \n",
    "                     exchange_X_species_log_molality_NaX)\n",
    "    exchange_X_species_log_molality_KX = \\\n",
    "        rm.get_value(\"exchange_X_species_log_molality_KX\", \n",
    "                     exchange_X_species_log_molality_KX)\n",
    "    exchange_X_species_log_molality_CaX2 = \\\n",
    "        rm.get_value(\"exchange_X_species_log_molality_CaX2\", \n",
    "                     exchange_X_species_log_molality_CaX2)\n",
    "\n",
    "\n",
    "    step = s + 1    # Advance step by one\n",
    "\n",
    "    # Calculate pore volume\n",
    "    por_vol = (step + 0.5) / 40\n",
    "\n",
    "    # Store last molality concentration result in array index \n",
    "    #   corresponding to current time step\n",
    "    Na[s,:] = solution_total_molality_Na\n",
    "    Cl[s,:] = solution_total_molality_Cl\n",
    "    K[s,:]  = solution_total_molality_K\n",
    "    Ca[s,:] = solution_total_molality_Ca\n",
    "\n",
    "    NaX[s,:] = exchange_X_species_log_molality_NaX\n",
    "    Xminus[s,:] = exchange_X_species_log_molality_Xminus\n",
    "    KX[s,:] = exchange_X_species_log_molality_KX\n",
    "    CaX2[s,:] = exchange_X_species_log_molality_CaX2\n",
    "\n",
    "    # Store pore volume result in array index corresponding to current \n",
    "    #   time step\n",
    "    por_volumes[s] = por_vol\n",
    "\n",
    "    # Print results for current time step at the last grid cell\n",
    "    cell = nxyz - 1 # Equals 39 (last index in concentration array)\n",
    "    print(f\"{step} {Na[s, cell]:.4e} {Cl[s, cell]:.4e} {K[s, cell]:.4e} \"\n",
    "          f\"{Ca[s, cell]:.4e} {NaX[s, cell]:.4e} {Xminus[s, cell]:.4e} \"\n",
    "          f\"{KX[s, cell]:.4e} {CaX2[s, cell]:.4e} {por_volumes[s,]:.4e}\")"
   ]
  },
  {
   "cell_type": "markdown",
   "id": "9ae75067",
   "metadata": {},
   "source": [
    "# Plot Results"
   ]
  },
  {
   "cell_type": "code",
   "execution_count": 16,
   "id": "b8025a7d",
   "metadata": {},
   "outputs": [
    {
     "data": {
      "image/png": "[encoded data removed]",
      "text/plain": [
       "<Figure size 640x480 with 1 Axes>"
      ]
     },
     "metadata": {},
     "output_type": "display_data"
    }
   ],
   "source": [
    "# Plot aqueous phase component concentration results\n",
    "fig, ax = plt.subplots()\n",
    "ax.plot(por_volumes, Na[:,cell]*1000, label='Na')\n",
    "ax.plot(por_volumes, Cl[:,cell]*1000, label='Cl')\n",
    "ax.plot(por_volumes, K[:,cell]*1000,  label='K')\n",
    "ax.plot(por_volumes, Ca[:,cell]*1000, label='Ca')\n",
    "ax.set_xlabel('Pore volumes')\n",
    "ax.set_ylabel('Millimoles per kilogram water')\n",
    "ax.legend()\n",
    "plt.show()"
   ]
  },
  {
   "cell_type": "code",
   "execution_count": 17,
   "id": "02a46777",
   "metadata": {},
   "outputs": [
    {
     "data": {
      "image/png": "[encoded data removed]",
      "text/plain": [
       "<Figure size 640x480 with 1 Axes>"
      ]
     },
     "metadata": {},
     "output_type": "display_data"
    }
   ],
   "source": [
    "# Plot solid phase exchange species results\n",
    "fig, ax = plt.subplots()\n",
    "ax.plot(por_volumes, NaX[:,cell], label='NaX')\n",
    "ax.plot(por_volumes, Xminus[:,cell], label='X-')\n",
    "ax.plot(por_volumes, KX[:,cell],  label='KX')\n",
    "ax.plot(por_volumes, CaX2[:,cell], label='CaX2')\n",
    "ax.set_xlabel('Pore volumes')\n",
    "ax.set_ylabel('Moles per kilogram water')\n",
    "ax.legend()\n",
    "plt.show()"
   ]
  }
 ],
 "metadata": {
  "kernelspec": {
   "display_name": "Python 3 (ipykernel)",
   "language": "python",
   "name": "python3"
  },
  "language_info": {
   "codemirror_mode": {
    "name": "ipython",
    "version": 3
   },
   "file_extension": ".py",
   "mimetype": "text/x-python",
   "name": "python",
   "nbconvert_exporter": "python",
   "pygments_lexer": "ipython3",
   "version": "3.11.9"
  }
 },
 "nbformat": 4,
 "nbformat_minor": 5
}
